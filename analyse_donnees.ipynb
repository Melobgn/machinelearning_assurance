{
 "cells": [
  {
   "cell_type": "code",
   "execution_count": 1,
   "metadata": {},
   "outputs": [
    {
     "data": {
      "text/html": [
       "<div>\n",
       "<style scoped>\n",
       "    .dataframe tbody tr th:only-of-type {\n",
       "        vertical-align: middle;\n",
       "    }\n",
       "\n",
       "    .dataframe tbody tr th {\n",
       "        vertical-align: top;\n",
       "    }\n",
       "\n",
       "    .dataframe thead th {\n",
       "        text-align: right;\n",
       "    }\n",
       "</style>\n",
       "<table border=\"1\" class=\"dataframe\">\n",
       "  <thead>\n",
       "    <tr style=\"text-align: right;\">\n",
       "      <th></th>\n",
       "      <th>age</th>\n",
       "      <th>sex</th>\n",
       "      <th>bmi</th>\n",
       "      <th>children</th>\n",
       "      <th>smoker</th>\n",
       "      <th>region</th>\n",
       "      <th>charges</th>\n",
       "    </tr>\n",
       "  </thead>\n",
       "  <tbody>\n",
       "    <tr>\n",
       "      <th>0</th>\n",
       "      <td>19</td>\n",
       "      <td>female</td>\n",
       "      <td>27.900</td>\n",
       "      <td>0</td>\n",
       "      <td>yes</td>\n",
       "      <td>southwest</td>\n",
       "      <td>16884.92400</td>\n",
       "    </tr>\n",
       "    <tr>\n",
       "      <th>1</th>\n",
       "      <td>18</td>\n",
       "      <td>male</td>\n",
       "      <td>33.770</td>\n",
       "      <td>1</td>\n",
       "      <td>no</td>\n",
       "      <td>southeast</td>\n",
       "      <td>1725.55230</td>\n",
       "    </tr>\n",
       "    <tr>\n",
       "      <th>2</th>\n",
       "      <td>28</td>\n",
       "      <td>male</td>\n",
       "      <td>33.000</td>\n",
       "      <td>3</td>\n",
       "      <td>no</td>\n",
       "      <td>southeast</td>\n",
       "      <td>4449.46200</td>\n",
       "    </tr>\n",
       "    <tr>\n",
       "      <th>3</th>\n",
       "      <td>33</td>\n",
       "      <td>male</td>\n",
       "      <td>22.705</td>\n",
       "      <td>0</td>\n",
       "      <td>no</td>\n",
       "      <td>northwest</td>\n",
       "      <td>21984.47061</td>\n",
       "    </tr>\n",
       "    <tr>\n",
       "      <th>4</th>\n",
       "      <td>32</td>\n",
       "      <td>male</td>\n",
       "      <td>28.880</td>\n",
       "      <td>0</td>\n",
       "      <td>no</td>\n",
       "      <td>northwest</td>\n",
       "      <td>3866.85520</td>\n",
       "    </tr>\n",
       "    <tr>\n",
       "      <th>...</th>\n",
       "      <td>...</td>\n",
       "      <td>...</td>\n",
       "      <td>...</td>\n",
       "      <td>...</td>\n",
       "      <td>...</td>\n",
       "      <td>...</td>\n",
       "      <td>...</td>\n",
       "    </tr>\n",
       "    <tr>\n",
       "      <th>1333</th>\n",
       "      <td>50</td>\n",
       "      <td>male</td>\n",
       "      <td>30.970</td>\n",
       "      <td>3</td>\n",
       "      <td>no</td>\n",
       "      <td>northwest</td>\n",
       "      <td>10600.54830</td>\n",
       "    </tr>\n",
       "    <tr>\n",
       "      <th>1334</th>\n",
       "      <td>18</td>\n",
       "      <td>female</td>\n",
       "      <td>31.920</td>\n",
       "      <td>0</td>\n",
       "      <td>no</td>\n",
       "      <td>northeast</td>\n",
       "      <td>2205.98080</td>\n",
       "    </tr>\n",
       "    <tr>\n",
       "      <th>1335</th>\n",
       "      <td>18</td>\n",
       "      <td>female</td>\n",
       "      <td>36.850</td>\n",
       "      <td>0</td>\n",
       "      <td>no</td>\n",
       "      <td>southeast</td>\n",
       "      <td>1629.83350</td>\n",
       "    </tr>\n",
       "    <tr>\n",
       "      <th>1336</th>\n",
       "      <td>21</td>\n",
       "      <td>female</td>\n",
       "      <td>25.800</td>\n",
       "      <td>0</td>\n",
       "      <td>no</td>\n",
       "      <td>southwest</td>\n",
       "      <td>2007.94500</td>\n",
       "    </tr>\n",
       "    <tr>\n",
       "      <th>1337</th>\n",
       "      <td>61</td>\n",
       "      <td>female</td>\n",
       "      <td>29.070</td>\n",
       "      <td>0</td>\n",
       "      <td>yes</td>\n",
       "      <td>northwest</td>\n",
       "      <td>29141.36030</td>\n",
       "    </tr>\n",
       "  </tbody>\n",
       "</table>\n",
       "<p>1338 rows × 7 columns</p>\n",
       "</div>"
      ],
      "text/plain": [
       "      age     sex     bmi  children smoker     region      charges\n",
       "0      19  female  27.900         0    yes  southwest  16884.92400\n",
       "1      18    male  33.770         1     no  southeast   1725.55230\n",
       "2      28    male  33.000         3     no  southeast   4449.46200\n",
       "3      33    male  22.705         0     no  northwest  21984.47061\n",
       "4      32    male  28.880         0     no  northwest   3866.85520\n",
       "...   ...     ...     ...       ...    ...        ...          ...\n",
       "1333   50    male  30.970         3     no  northwest  10600.54830\n",
       "1334   18  female  31.920         0     no  northeast   2205.98080\n",
       "1335   18  female  36.850         0     no  southeast   1629.83350\n",
       "1336   21  female  25.800         0     no  southwest   2007.94500\n",
       "1337   61  female  29.070         0    yes  northwest  29141.36030\n",
       "\n",
       "[1338 rows x 7 columns]"
      ]
     },
     "execution_count": 1,
     "metadata": {},
     "output_type": "execute_result"
    }
   ],
   "source": [
    "import pandas as pd\n",
    "import matplotlib.pyplot as plt \n",
    "import seaborn as sns\n",
    "import numpy as np\n",
    "from scipy import stats\n",
    "dataframe = pd.read_csv(\"data.csv\")\n",
    "dataframe\n",
    "\n"
   ]
  },
  {
   "cell_type": "code",
   "execution_count": 2,
   "metadata": {},
   "outputs": [
    {
     "data": {
      "text/plain": [
       "(1338, 7)"
      ]
     },
     "execution_count": 2,
     "metadata": {},
     "output_type": "execute_result"
    }
   ],
   "source": [
    "dataframe.shape"
   ]
  },
  {
   "cell_type": "code",
   "execution_count": 3,
   "metadata": {},
   "outputs": [
    {
     "name": "stdout",
     "output_type": "stream",
     "text": [
      "     age   sex    bmi  children smoker     region    charges\n",
      "195   19  male  30.59         0     no  northwest  1639.5631\n",
      "581   19  male  30.59         0     no  northwest  1639.5631\n",
      "(1337, 7)\n"
     ]
    }
   ],
   "source": [
    "duplicates = dataframe[dataframe.duplicated(keep=False)]\n",
    "print(duplicates)\n",
    "\n",
    "index_to_remove = 581\n",
    "dataframe = dataframe.drop(index_to_remove)\n",
    "dataframe = dataframe.reset_index(drop=True)\n",
    "print(dataframe.shape)"
   ]
  },
  {
   "cell_type": "code",
   "execution_count": 4,
   "metadata": {},
   "outputs": [
    {
     "data": {
      "text/html": [
       "<div>\n",
       "<style scoped>\n",
       "    .dataframe tbody tr th:only-of-type {\n",
       "        vertical-align: middle;\n",
       "    }\n",
       "\n",
       "    .dataframe tbody tr th {\n",
       "        vertical-align: top;\n",
       "    }\n",
       "\n",
       "    .dataframe thead th {\n",
       "        text-align: right;\n",
       "    }\n",
       "</style>\n",
       "<table border=\"1\" class=\"dataframe\">\n",
       "  <thead>\n",
       "    <tr style=\"text-align: right;\">\n",
       "      <th></th>\n",
       "      <th>age</th>\n",
       "      <th>bmi</th>\n",
       "      <th>children</th>\n",
       "      <th>charges</th>\n",
       "    </tr>\n",
       "  </thead>\n",
       "  <tbody>\n",
       "    <tr>\n",
       "      <th>count</th>\n",
       "      <td>1337.000000</td>\n",
       "      <td>1337.000000</td>\n",
       "      <td>1337.000000</td>\n",
       "      <td>1337.000000</td>\n",
       "    </tr>\n",
       "    <tr>\n",
       "      <th>mean</th>\n",
       "      <td>39.222139</td>\n",
       "      <td>30.663452</td>\n",
       "      <td>1.095737</td>\n",
       "      <td>13279.121487</td>\n",
       "    </tr>\n",
       "    <tr>\n",
       "      <th>std</th>\n",
       "      <td>14.044333</td>\n",
       "      <td>6.100468</td>\n",
       "      <td>1.205571</td>\n",
       "      <td>12110.359656</td>\n",
       "    </tr>\n",
       "    <tr>\n",
       "      <th>min</th>\n",
       "      <td>18.000000</td>\n",
       "      <td>15.960000</td>\n",
       "      <td>0.000000</td>\n",
       "      <td>1121.873900</td>\n",
       "    </tr>\n",
       "    <tr>\n",
       "      <th>25%</th>\n",
       "      <td>27.000000</td>\n",
       "      <td>26.290000</td>\n",
       "      <td>0.000000</td>\n",
       "      <td>4746.344000</td>\n",
       "    </tr>\n",
       "    <tr>\n",
       "      <th>50%</th>\n",
       "      <td>39.000000</td>\n",
       "      <td>30.400000</td>\n",
       "      <td>1.000000</td>\n",
       "      <td>9386.161300</td>\n",
       "    </tr>\n",
       "    <tr>\n",
       "      <th>75%</th>\n",
       "      <td>51.000000</td>\n",
       "      <td>34.700000</td>\n",
       "      <td>2.000000</td>\n",
       "      <td>16657.717450</td>\n",
       "    </tr>\n",
       "    <tr>\n",
       "      <th>max</th>\n",
       "      <td>64.000000</td>\n",
       "      <td>53.130000</td>\n",
       "      <td>5.000000</td>\n",
       "      <td>63770.428010</td>\n",
       "    </tr>\n",
       "  </tbody>\n",
       "</table>\n",
       "</div>"
      ],
      "text/plain": [
       "               age          bmi     children       charges\n",
       "count  1337.000000  1337.000000  1337.000000   1337.000000\n",
       "mean     39.222139    30.663452     1.095737  13279.121487\n",
       "std      14.044333     6.100468     1.205571  12110.359656\n",
       "min      18.000000    15.960000     0.000000   1121.873900\n",
       "25%      27.000000    26.290000     0.000000   4746.344000\n",
       "50%      39.000000    30.400000     1.000000   9386.161300\n",
       "75%      51.000000    34.700000     2.000000  16657.717450\n",
       "max      64.000000    53.130000     5.000000  63770.428010"
      ]
     },
     "execution_count": 4,
     "metadata": {},
     "output_type": "execute_result"
    }
   ],
   "source": [
    "dataframe.describe()"
   ]
  },
  {
   "cell_type": "code",
   "execution_count": 5,
   "metadata": {},
   "outputs": [
    {
     "data": {
      "text/plain": [
       "age           int64\n",
       "sex          object\n",
       "bmi         float64\n",
       "children      int64\n",
       "smoker       object\n",
       "region       object\n",
       "charges     float64\n",
       "dtype: object"
      ]
     },
     "execution_count": 5,
     "metadata": {},
     "output_type": "execute_result"
    }
   ],
   "source": [
    "dataframe.dtypes"
   ]
  },
  {
   "cell_type": "code",
   "execution_count": 6,
   "metadata": {},
   "outputs": [
    {
     "data": {
      "text/plain": [
       "age         0\n",
       "sex         0\n",
       "bmi         0\n",
       "children    0\n",
       "smoker      0\n",
       "region      0\n",
       "charges     0\n",
       "dtype: int64"
      ]
     },
     "execution_count": 6,
     "metadata": {},
     "output_type": "execute_result"
    }
   ],
   "source": [
    "dataframe.isnull().sum()"
   ]
  },
  {
   "cell_type": "code",
   "execution_count": 7,
   "metadata": {},
   "outputs": [
    {
     "data": {
      "image/png": "[encoded data removed]",
      "text/plain": [
       "<Figure size 640x480 with 1 Axes>"
      ]
     },
     "metadata": {},
     "output_type": "display_data"
    }
   ],
   "source": [
    "sns.boxplot(data=dataframe)\n",
    "# sns.boxplot(data=dataframe)\n",
    "plt.yscale(\"log\")\n",
    "plt.show()\n",
    "\n"
   ]
  },
  {
   "cell_type": "code",
   "execution_count": 8,
   "metadata": {},
   "outputs": [
    {
     "name": "stdout",
     "output_type": "stream",
     "text": [
      "      age   sex    bmi  children smoker     region     charges\n",
      "116    58  male  49.06         0     no  southeast  11381.3254\n",
      "846    23  male  50.38         1     no  southeast   2438.0552\n",
      "1046   22  male  52.58         1    yes  southeast  44501.3982\n",
      "1316   18  male  53.13         0     no  southeast   1163.4627\n"
     ]
    }
   ],
   "source": [
    "# Calculate the z-score for each variable\n",
    "z = np.abs(stats.zscore(dataframe['bmi']))\n",
    "\n",
    "# Identify outliers as students with a z-score greater than 3\n",
    "threshold = 3\n",
    "outliers = dataframe[z > threshold]\n",
    "\n",
    "# Print the outliers\n",
    "print(outliers)"
   ]
  },
  {
   "cell_type": "code",
   "execution_count": 9,
   "metadata": {},
   "outputs": [
    {
     "name": "stdout",
     "output_type": "stream",
     "text": [
      "Empty DataFrame\n",
      "Columns: [age, sex, bmi, children, smoker, region, charges]\n",
      "Index: []\n"
     ]
    }
   ],
   "source": [
    "# Calculate the z-score for each variable\n",
    "z = np.abs(stats.zscore(dataframe['age']))\n",
    "\n",
    "# Identify outliers as students with a z-score greater than 3\n",
    "threshold = 3\n",
    "outliers = dataframe[z > threshold]\n",
    "\n",
    "# Print the outliers\n",
    "print(outliers)"
   ]
  },
  {
   "cell_type": "code",
   "execution_count": 10,
   "metadata": {},
   "outputs": [
    {
     "name": "stdout",
     "output_type": "stream",
     "text": [
      "      age     sex     bmi  children smoker     region      charges\n",
      "34     28    male  36.400         1    yes  southwest  51194.55914\n",
      "543    54  female  47.410         0    yes  southeast  63770.42801\n",
      "577    31  female  38.095         1    yes  northeast  58571.07448\n",
      "818    33  female  35.530         0    yes  northwest  55135.40209\n",
      "1145   60    male  32.800         0    yes  southwest  52590.82939\n",
      "1229   52    male  34.485         3    yes  northwest  60021.39897\n",
      "1299   45    male  30.360         0    yes  southeast  62592.87309\n"
     ]
    }
   ],
   "source": [
    "# Calculate the z-score for each variable\n",
    "z = np.abs(stats.zscore(dataframe['charges']))\n",
    "\n",
    "# Identify outliers as students with a z-score greater than 3\n",
    "threshold = 3\n",
    "outliers = dataframe[z > threshold]\n",
    "\n",
    "# Print the outliers\n",
    "print(outliers)"
   ]
  },
  {
   "cell_type": "code",
   "execution_count": 11,
   "metadata": {},
   "outputs": [
    {
     "name": "stdout",
     "output_type": "stream",
     "text": [
      "      age     sex     bmi  children smoker     region      charges\n",
      "32     19  female  28.600         5     no  southwest   4687.79700\n",
      "71     31    male  28.500         5     no  northeast   6799.45800\n",
      "166    20  female  37.000         5     no  southwest   4830.63000\n",
      "413    25    male  23.900         5     no  southwest   5080.09600\n",
      "425    45    male  24.310         5     no  southeast   9788.86590\n",
      "438    52  female  46.750         5     no  southeast  12592.53450\n",
      "568    49  female  31.900         5     no  southwest  11552.90400\n",
      "639    33    male  42.400         5     no  southwest   6666.24300\n",
      "876    33    male  33.440         5     no  southeast   6653.78860\n",
      "931    46    male  25.800         5     no  southwest  10096.97000\n",
      "936    39  female  24.225         5     no  northwest   8965.79575\n",
      "968    39  female  34.320         5     no  southeast   8596.82780\n",
      "983    20    male  30.115         5     no  northeast   4915.05985\n",
      "1084   39  female  18.300         5    yes  southwest  19023.26000\n",
      "1115   41    male  29.640         5     no  northeast   9222.40260\n",
      "1129   39  female  23.870         5     no  southeast   8582.30230\n",
      "1244   28    male  24.300         5     no  southwest   5615.36900\n",
      "1271   43    male  25.520         5     no  southeast  14478.33015\n"
     ]
    }
   ],
   "source": [
    "# Calculate the z-score for each variable\n",
    "z = np.abs(stats.zscore(dataframe['children']))\n",
    "\n",
    "# Identify outliers as students with a z-score greater than 3\n",
    "threshold = 3\n",
    "outliers = dataframe[z > threshold]\n",
    "\n",
    "# Print the outliers\n",
    "print(outliers)"
   ]
  },
  {
   "cell_type": "code",
   "execution_count": 12,
   "metadata": {},
   "outputs": [
    {
     "data": {
      "image/png": "[encoded data removed]",
      "text/plain": [
       "<Figure size 1400x700 with 1 Axes>"
      ]
     },
     "metadata": {},
     "output_type": "display_data"
    }
   ],
   "source": [
    "bins = 47\n",
    "plt.figure(figsize=(14,7))\n",
    "# custom_palette = sns.color_palette(\"mako\", as_cmap=True)\n",
    "plt.xlabel(\"NOMBRE D'INDIVIDUS\")\n",
    "plt.ylabel(\"AGE\")\n",
    "plt.title(\"Distribution des données de la variable AGE\", fontsize=20)\n",
    "sns.histplot(dataframe, y=\"age\", bins=bins, hue=\"age\", palette=\"Blues_r\", legend=False)\n",
    "plt.show()\n"
   ]
  },
  {
   "cell_type": "code",
   "execution_count": 13,
   "metadata": {},
   "outputs": [],
   "source": [
    "# bins = 100\n",
    "\n",
    "# plt.figure(figsize=(15,15))\n",
    "# # custom_palette = sns.color_palette(\"mako\", as_cmap=True)\n",
    "# plt.xlabel(\"NOMBRE D'INDIVIDUS\")\n",
    "# plt.ylabel(\"BMI\")\n",
    "# plt.title(\"Distribution des données de la variable BMI\", fontsize=20)\n",
    "# sns.histplot(dataframe, bins=bins, y=\"bmi\", hue=\"bmi\", palette=\"rocket_r\", legend=False)\n",
    "# plt.show()\n"
   ]
  },
  {
   "cell_type": "code",
   "execution_count": 14,
   "metadata": {},
   "outputs": [
    {
     "name": "stdout",
     "output_type": "stream",
     "text": [
      "      age     sex     bmi  children smoker     region      charges  \\\n",
      "0      19  female  27.900         0    yes  southwest  16884.92400   \n",
      "1      18    male  33.770         1     no  southeast   1725.55230   \n",
      "2      28    male  33.000         3     no  southeast   4449.46200   \n",
      "3      33    male  22.705         0     no  northwest  21984.47061   \n",
      "4      32    male  28.880         0     no  northwest   3866.85520   \n",
      "...   ...     ...     ...       ...    ...        ...          ...   \n",
      "1332   50    male  30.970         3     no  northwest  10600.54830   \n",
      "1333   18  female  31.920         0     no  northeast   2205.98080   \n",
      "1334   18  female  36.850         0     no  southeast   1629.83350   \n",
      "1335   21  female  25.800         0     no  southwest   2007.94500   \n",
      "1336   61  female  29.070         0    yes  northwest  29141.36030   \n",
      "\n",
      "      bmi_categories  \n",
      "0                  2  \n",
      "1                  3  \n",
      "2                  3  \n",
      "3                  1  \n",
      "4                  2  \n",
      "...              ...  \n",
      "1332               3  \n",
      "1333               3  \n",
      "1334               4  \n",
      "1335               2  \n",
      "1336               2  \n",
      "\n",
      "[1337 rows x 8 columns]\n"
     ]
    }
   ],
   "source": [
    "# data_bmi = dataframe[[\"bmi\", \"bmi_categories\"]]\n",
    "# if data_bmi[\"bmi\"] < 18.5:\n",
    "#     data_bmi[\"bmi_categories\"] = 0\n",
    "# elif 24.9 >= data_bmi[\"bmi\"] and data_bmi[\"bmi\"] >= 18.5:\n",
    "#     data_bmi[\"bmi_categories\"] = 1\n",
    "# elif 29.9 >= data_bmi[\"bmi\"] and data_bmi[\"bmi\"] >= 25.0:\n",
    "#     data_bmi[\"bmi_categories\"] = 2\n",
    "# elif 34.9 >= data_bmi[\"bmi\"] and data_bmi[\"bmi\"] >= 30.0:\n",
    "#     data_bmi[\"bmi_categories\"] = 3\n",
    "# elif 39.9 >= data_bmi[\"bmi\"] and data_bmi[\"bmi\"] >= 35.0:\n",
    "#     data_bmi[\"bmi_categories\"] = 4\n",
    "# elif data_bmi[\"bmi\"] >= 40.0:\n",
    "#     data_bmi[\"bmi_categories\"] = 5\n",
    "    \n",
    "    # Supposons que votre DataFrame s'appelle dataframe\n",
    "# et que la colonne 'bmi' existe déjà en tant que colonne float\n",
    "\n",
    "# Création de la nouvelle colonne 'bmi_categories' en utilisant la méthode apply\n",
    "dataframe['bmi_categories'] = dataframe['bmi'].apply(lambda x: 0 if x < 18.5 else (1 if 18.5 <= x <= 24.9 else (2 if 25.0 <= x <= 29.9 else (3 if 30.0 <= x <= 34.9 else (4 if 35.0 <= x <= 39.9 else 5)))))\n",
    "\n",
    "# Affichage du DataFrame résultant\n",
    "print(dataframe)\n",
    "    "
   ]
  }
 ],
 "metadata": {
  "kernelspec": {
   "display_name": "Python 3",
   "language": "python",
   "name": "python3"
  },
  "language_info": {
   "codemirror_mode": {
    "name": "ipython",
    "version": 3
   },
   "file_extension": ".py",
   "mimetype": "text/x-python",
   "name": "python",
   "nbconvert_exporter": "python",
   "pygments_lexer": "ipython3",
   "version": "3.10.12"
  }
 },
 "nbformat": 4,
 "nbformat_minor": 2
}
